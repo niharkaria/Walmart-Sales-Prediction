{
 "cells": [
  {
   "cell_type": "markdown",
   "id": "32d43003-1e84-4468-8ef8-ef6cfb420314",
   "metadata": {},
   "source": [
    "## Walmart Sales Prediction"
   ]
  },
  {
   "cell_type": "markdown",
   "id": "7128f0bc-9a50-411d-9612-5c2ad9af1de1",
   "metadata": {},
   "source": [
    "## Problem Statement:\n",
    "Walmart, one of the largest retail stores in the US, faces significant challenges in accurately predicting sales and demand. Various events, holidays, and economic factors such as CPI and the Unemployment Index influence sales patterns. Inaccurate demand forecasting often leads to stockouts, resulting in missed sales opportunities. Walmart's promotional markdowns, especially around holidays like the Super Bowl, Labor Day, Thanksgiving, and Christmas, further complicate the prediction process due to incomplete historical data.\n",
    "\n",
    "The goal is to build regression models that accurately forecast sales for Walmart’s 45 stores. These models should consider factors like holiday effects, economic conditions, and markdown events, and be evaluated using metrics like R², RMSE, etc."
   ]
  },
  {
   "cell_type": "markdown",
   "id": "3a478925-d31c-4808-9b7e-9b64d257f459",
   "metadata": {},
   "source": [
    "#### Importing the Libraries"
   ]
  },
  {
   "cell_type": "code",
   "execution_count": 1,
   "id": "44147c0d-05f2-4f6d-8c0b-8aa7d5fe9c2f",
   "metadata": {},
   "outputs": [],
   "source": [
    "#Importing the necessary libraries\n",
    "import numpy as np\n",
    "import pandas as pd\n",
    "import matplotlib.pyplot as plt\n",
    "import seaborn as sns\n",
    "\n",
    "import warnings\n",
    "warnings.filterwarnings('ignore')"
   ]
  },
  {
   "cell_type": "markdown",
   "id": "81d28a2e-2974-4b86-942d-aee5563391f7",
   "metadata": {},
   "source": [
    "#### Data Exploration"
   ]
  },
  {
   "cell_type": "code",
   "execution_count": 2,
   "id": "6a8fde69-188d-4d4d-97e7-977a08ed9d39",
   "metadata": {},
   "outputs": [
    {
     "data": {
      "text/html": [
       "<div>\n",
       "<style scoped>\n",
       "    .dataframe tbody tr th:only-of-type {\n",
       "        vertical-align: middle;\n",
       "    }\n",
       "\n",
       "    .dataframe tbody tr th {\n",
       "        vertical-align: top;\n",
       "    }\n",
       "\n",
       "    .dataframe thead th {\n",
       "        text-align: right;\n",
       "    }\n",
       "</style>\n",
       "<table border=\"1\" class=\"dataframe\">\n",
       "  <thead>\n",
       "    <tr style=\"text-align: right;\">\n",
       "      <th></th>\n",
       "      <th>Store</th>\n",
       "      <th>Date</th>\n",
       "      <th>Weekly_Sales</th>\n",
       "      <th>Holiday_Flag</th>\n",
       "      <th>Temperature</th>\n",
       "      <th>Fuel_Price</th>\n",
       "      <th>CPI</th>\n",
       "      <th>Unemployment</th>\n",
       "    </tr>\n",
       "  </thead>\n",
       "  <tbody>\n",
       "    <tr>\n",
       "      <th>0</th>\n",
       "      <td>1</td>\n",
       "      <td>05-02-2010</td>\n",
       "      <td>1643690.90</td>\n",
       "      <td>0</td>\n",
       "      <td>42.31</td>\n",
       "      <td>2.572</td>\n",
       "      <td>211.096358</td>\n",
       "      <td>8.106</td>\n",
       "    </tr>\n",
       "    <tr>\n",
       "      <th>1</th>\n",
       "      <td>1</td>\n",
       "      <td>12-02-2010</td>\n",
       "      <td>1641957.44</td>\n",
       "      <td>1</td>\n",
       "      <td>38.51</td>\n",
       "      <td>2.548</td>\n",
       "      <td>211.242170</td>\n",
       "      <td>8.106</td>\n",
       "    </tr>\n",
       "    <tr>\n",
       "      <th>2</th>\n",
       "      <td>1</td>\n",
       "      <td>19-02-2010</td>\n",
       "      <td>1611968.17</td>\n",
       "      <td>0</td>\n",
       "      <td>39.93</td>\n",
       "      <td>2.514</td>\n",
       "      <td>211.289143</td>\n",
       "      <td>8.106</td>\n",
       "    </tr>\n",
       "    <tr>\n",
       "      <th>3</th>\n",
       "      <td>1</td>\n",
       "      <td>26-02-2010</td>\n",
       "      <td>1409727.59</td>\n",
       "      <td>0</td>\n",
       "      <td>46.63</td>\n",
       "      <td>2.561</td>\n",
       "      <td>211.319643</td>\n",
       "      <td>8.106</td>\n",
       "    </tr>\n",
       "    <tr>\n",
       "      <th>4</th>\n",
       "      <td>1</td>\n",
       "      <td>05-03-2010</td>\n",
       "      <td>1554806.68</td>\n",
       "      <td>0</td>\n",
       "      <td>46.50</td>\n",
       "      <td>2.625</td>\n",
       "      <td>211.350143</td>\n",
       "      <td>8.106</td>\n",
       "    </tr>\n",
       "  </tbody>\n",
       "</table>\n",
       "</div>"
      ],
      "text/plain": [
       "   Store        Date  Weekly_Sales  Holiday_Flag  Temperature  Fuel_Price  \\\n",
       "0      1  05-02-2010    1643690.90             0        42.31       2.572   \n",
       "1      1  12-02-2010    1641957.44             1        38.51       2.548   \n",
       "2      1  19-02-2010    1611968.17             0        39.93       2.514   \n",
       "3      1  26-02-2010    1409727.59             0        46.63       2.561   \n",
       "4      1  05-03-2010    1554806.68             0        46.50       2.625   \n",
       "\n",
       "          CPI  Unemployment  \n",
       "0  211.096358         8.106  \n",
       "1  211.242170         8.106  \n",
       "2  211.289143         8.106  \n",
       "3  211.319643         8.106  \n",
       "4  211.350143         8.106  "
      ]
     },
     "execution_count": 2,
     "metadata": {},
     "output_type": "execute_result"
    }
   ],
   "source": [
    "# Load the dataset\n",
    "df = pd.read_csv(\"C:/Users/Admin/Downloads/Walmart.csv\")\n",
    "df.head()"
   ]
  },
  {
   "cell_type": "code",
   "execution_count": 3,
   "id": "6e26c41a-fd2c-4419-919b-74db302ba70f",
   "metadata": {},
   "outputs": [
    {
     "name": "stdout",
     "output_type": "stream",
     "text": [
      "<class 'pandas.core.frame.DataFrame'>\n",
      "RangeIndex: 6435 entries, 0 to 6434\n",
      "Data columns (total 8 columns):\n",
      " #   Column        Non-Null Count  Dtype  \n",
      "---  ------        --------------  -----  \n",
      " 0   Store         6435 non-null   int64  \n",
      " 1   Date          6435 non-null   object \n",
      " 2   Weekly_Sales  6435 non-null   float64\n",
      " 3   Holiday_Flag  6435 non-null   int64  \n",
      " 4   Temperature   6435 non-null   float64\n",
      " 5   Fuel_Price    6435 non-null   float64\n",
      " 6   CPI           6435 non-null   float64\n",
      " 7   Unemployment  6435 non-null   float64\n",
      "dtypes: float64(5), int64(2), object(1)\n",
      "memory usage: 402.3+ KB\n"
     ]
    }
   ],
   "source": [
    "df.info()"
   ]
  },
  {
   "cell_type": "code",
   "execution_count": 4,
   "id": "c5fd557d-88de-42a6-9e00-ec584de57836",
   "metadata": {},
   "outputs": [
    {
     "data": {
      "text/plain": [
       "Store           0\n",
       "Date            0\n",
       "Weekly_Sales    0\n",
       "Holiday_Flag    0\n",
       "Temperature     0\n",
       "Fuel_Price      0\n",
       "CPI             0\n",
       "Unemployment    0\n",
       "dtype: int64"
      ]
     },
     "execution_count": 4,
     "metadata": {},
     "output_type": "execute_result"
    }
   ],
   "source": [
    "# Check missing values\n",
    "df.isnull().sum()"
   ]
  },
  {
   "cell_type": "code",
   "execution_count": 5,
   "id": "a39c5e39-526f-4366-8c8d-4c807550da47",
   "metadata": {},
   "outputs": [
    {
     "data": {
      "text/html": [
       "<div>\n",
       "<style scoped>\n",
       "    .dataframe tbody tr th:only-of-type {\n",
       "        vertical-align: middle;\n",
       "    }\n",
       "\n",
       "    .dataframe tbody tr th {\n",
       "        vertical-align: top;\n",
       "    }\n",
       "\n",
       "    .dataframe thead th {\n",
       "        text-align: right;\n",
       "    }\n",
       "</style>\n",
       "<table border=\"1\" class=\"dataframe\">\n",
       "  <thead>\n",
       "    <tr style=\"text-align: right;\">\n",
       "      <th></th>\n",
       "      <th>Store</th>\n",
       "      <th>Weekly_Sales</th>\n",
       "      <th>Holiday_Flag</th>\n",
       "      <th>Temperature</th>\n",
       "      <th>Fuel_Price</th>\n",
       "      <th>CPI</th>\n",
       "      <th>Unemployment</th>\n",
       "    </tr>\n",
       "  </thead>\n",
       "  <tbody>\n",
       "    <tr>\n",
       "      <th>count</th>\n",
       "      <td>6435.000000</td>\n",
       "      <td>6.435000e+03</td>\n",
       "      <td>6435.000000</td>\n",
       "      <td>6435.000000</td>\n",
       "      <td>6435.000000</td>\n",
       "      <td>6435.000000</td>\n",
       "      <td>6435.000000</td>\n",
       "    </tr>\n",
       "    <tr>\n",
       "      <th>mean</th>\n",
       "      <td>23.000000</td>\n",
       "      <td>1.046965e+06</td>\n",
       "      <td>0.069930</td>\n",
       "      <td>60.663782</td>\n",
       "      <td>3.358607</td>\n",
       "      <td>171.578394</td>\n",
       "      <td>7.999151</td>\n",
       "    </tr>\n",
       "    <tr>\n",
       "      <th>std</th>\n",
       "      <td>12.988182</td>\n",
       "      <td>5.643666e+05</td>\n",
       "      <td>0.255049</td>\n",
       "      <td>18.444933</td>\n",
       "      <td>0.459020</td>\n",
       "      <td>39.356712</td>\n",
       "      <td>1.875885</td>\n",
       "    </tr>\n",
       "    <tr>\n",
       "      <th>min</th>\n",
       "      <td>1.000000</td>\n",
       "      <td>2.099862e+05</td>\n",
       "      <td>0.000000</td>\n",
       "      <td>-2.060000</td>\n",
       "      <td>2.472000</td>\n",
       "      <td>126.064000</td>\n",
       "      <td>3.879000</td>\n",
       "    </tr>\n",
       "    <tr>\n",
       "      <th>25%</th>\n",
       "      <td>12.000000</td>\n",
       "      <td>5.533501e+05</td>\n",
       "      <td>0.000000</td>\n",
       "      <td>47.460000</td>\n",
       "      <td>2.933000</td>\n",
       "      <td>131.735000</td>\n",
       "      <td>6.891000</td>\n",
       "    </tr>\n",
       "    <tr>\n",
       "      <th>50%</th>\n",
       "      <td>23.000000</td>\n",
       "      <td>9.607460e+05</td>\n",
       "      <td>0.000000</td>\n",
       "      <td>62.670000</td>\n",
       "      <td>3.445000</td>\n",
       "      <td>182.616521</td>\n",
       "      <td>7.874000</td>\n",
       "    </tr>\n",
       "    <tr>\n",
       "      <th>75%</th>\n",
       "      <td>34.000000</td>\n",
       "      <td>1.420159e+06</td>\n",
       "      <td>0.000000</td>\n",
       "      <td>74.940000</td>\n",
       "      <td>3.735000</td>\n",
       "      <td>212.743293</td>\n",
       "      <td>8.622000</td>\n",
       "    </tr>\n",
       "    <tr>\n",
       "      <th>max</th>\n",
       "      <td>45.000000</td>\n",
       "      <td>3.818686e+06</td>\n",
       "      <td>1.000000</td>\n",
       "      <td>100.140000</td>\n",
       "      <td>4.468000</td>\n",
       "      <td>227.232807</td>\n",
       "      <td>14.313000</td>\n",
       "    </tr>\n",
       "  </tbody>\n",
       "</table>\n",
       "</div>"
      ],
      "text/plain": [
       "             Store  Weekly_Sales  Holiday_Flag  Temperature   Fuel_Price  \\\n",
       "count  6435.000000  6.435000e+03   6435.000000  6435.000000  6435.000000   \n",
       "mean     23.000000  1.046965e+06      0.069930    60.663782     3.358607   \n",
       "std      12.988182  5.643666e+05      0.255049    18.444933     0.459020   \n",
       "min       1.000000  2.099862e+05      0.000000    -2.060000     2.472000   \n",
       "25%      12.000000  5.533501e+05      0.000000    47.460000     2.933000   \n",
       "50%      23.000000  9.607460e+05      0.000000    62.670000     3.445000   \n",
       "75%      34.000000  1.420159e+06      0.000000    74.940000     3.735000   \n",
       "max      45.000000  3.818686e+06      1.000000   100.140000     4.468000   \n",
       "\n",
       "               CPI  Unemployment  \n",
       "count  6435.000000   6435.000000  \n",
       "mean    171.578394      7.999151  \n",
       "std      39.356712      1.875885  \n",
       "min     126.064000      3.879000  \n",
       "25%     131.735000      6.891000  \n",
       "50%     182.616521      7.874000  \n",
       "75%     212.743293      8.622000  \n",
       "max     227.232807     14.313000  "
      ]
     },
     "execution_count": 5,
     "metadata": {},
     "output_type": "execute_result"
    }
   ],
   "source": [
    "df.describe()"
   ]
  },
  {
   "cell_type": "markdown",
   "id": "a7ca0e94-ff33-471e-8118-8abda9145cbd",
   "metadata": {},
   "source": [
    "#### There are no missing values."
   ]
  },
  {
   "cell_type": "markdown",
   "id": "7a378fa3-c854-43d7-86e2-13e91393230a",
   "metadata": {},
   "source": [
    "#### Exploratory Data Analysis (EDA)"
   ]
  },
  {
   "cell_type": "code",
   "execution_count": 7,
   "id": "f80a83cd-8de1-4921-b9d5-34aa049d3f77",
   "metadata": {
    "scrolled": true
   },
   "outputs": [
    {
     "data": {
      "image/png": "[encoded data removed]",
      "text/plain": [
       "<Figure size 1500x1000 with 5 Axes>"
      ]
     },
     "metadata": {},
     "output_type": "display_data"
    }
   ],
   "source": [
    "columns=['Weekly_Sales','Temperature','CPI','Fuel_Price','Unemployment']\n",
    "plt.figure(figsize=(15,10))\n",
    "colors = ['blue', 'green', 'red', 'purple','magenta']\n",
    "for i,colum  in enumerate(columns,1):\n",
    "    plt.subplot(4,5,i)\n",
    "    sns.histplot(df[colum],color=colors[i-1],kde=True)\n",
    "    plt.title(colum)\n",
    "    plt.xlabel('')  \n",
    "    plt.ylabel('') \n",
    "plt.show()"
   ]
  },
  {
   "cell_type": "markdown",
   "id": "bd13dc43-74b3-4268-bb69-0c4621dd2aeb",
   "metadata": {},
   "source": [
    "#### The code box plots for Weekly_Sales, Temperature, CPI, Fuel_Price, and Unemployment to show detect any outliers in these variables.¶\n"
   ]
  },
  {
   "cell_type": "code",
   "execution_count": 10,
   "id": "7811b5db-e42b-4327-ae5f-84ad791948ab",
   "metadata": {},
   "outputs": [
    {
     "data": {
      "image/png": "[encoded data removed]",
      "text/plain": [
       "<Figure size 1500x1000 with 5 Axes>"
      ]
     },
     "metadata": {},
     "output_type": "display_data"
    }
   ],
   "source": [
    "columns=['Weekly_Sales','Temperature','CPI','Fuel_Price','Unemployment']\n",
    "plt.figure(figsize=(15,10))\n",
    "colors = ['blue', 'green', 'red', 'purple','magenta']\n",
    "for i,colum  in enumerate(columns,1):\n",
    "    plt.subplot(3,5,i)\n",
    "    sns.boxplot(data=df, y=colum,color='lightblue')\n",
    "    plt.xlabel('')  \n",
    "    plt.ylabel('') \n",
    "    plt.title(colum)\n",
    "plt.show()"
   ]
  },
  {
   "cell_type": "code",
   "execution_count": 9,
   "id": "9c9caa2f-52f6-4f56-8bb0-9039520fddde",
   "metadata": {},
   "outputs": [
    {
     "data": {
      "text/html": [
       "<div>\n",
       "<style scoped>\n",
       "    .dataframe tbody tr th:only-of-type {\n",
       "        vertical-align: middle;\n",
       "    }\n",
       "\n",
       "    .dataframe tbody tr th {\n",
       "        vertical-align: top;\n",
       "    }\n",
       "\n",
       "    .dataframe thead th {\n",
       "        text-align: right;\n",
       "    }\n",
       "</style>\n",
       "<table border=\"1\" class=\"dataframe\">\n",
       "  <thead>\n",
       "    <tr style=\"text-align: right;\">\n",
       "      <th></th>\n",
       "      <th>Store</th>\n",
       "      <th>Weekly_Sales</th>\n",
       "      <th>Holiday_Flag</th>\n",
       "      <th>Temperature</th>\n",
       "      <th>Fuel_Price</th>\n",
       "      <th>CPI</th>\n",
       "      <th>Unemployment</th>\n",
       "      <th>Month</th>\n",
       "      <th>Year</th>\n",
       "    </tr>\n",
       "  </thead>\n",
       "  <tbody>\n",
       "    <tr>\n",
       "      <th>0</th>\n",
       "      <td>1</td>\n",
       "      <td>1643690.90</td>\n",
       "      <td>0</td>\n",
       "      <td>42.31</td>\n",
       "      <td>2.572</td>\n",
       "      <td>211.096358</td>\n",
       "      <td>8.106</td>\n",
       "      <td>2</td>\n",
       "      <td>2010</td>\n",
       "    </tr>\n",
       "    <tr>\n",
       "      <th>1</th>\n",
       "      <td>1</td>\n",
       "      <td>1641957.44</td>\n",
       "      <td>1</td>\n",
       "      <td>38.51</td>\n",
       "      <td>2.548</td>\n",
       "      <td>211.242170</td>\n",
       "      <td>8.106</td>\n",
       "      <td>2</td>\n",
       "      <td>2010</td>\n",
       "    </tr>\n",
       "    <tr>\n",
       "      <th>2</th>\n",
       "      <td>1</td>\n",
       "      <td>1611968.17</td>\n",
       "      <td>0</td>\n",
       "      <td>39.93</td>\n",
       "      <td>2.514</td>\n",
       "      <td>211.289143</td>\n",
       "      <td>8.106</td>\n",
       "      <td>2</td>\n",
       "      <td>2010</td>\n",
       "    </tr>\n",
       "    <tr>\n",
       "      <th>3</th>\n",
       "      <td>1</td>\n",
       "      <td>1409727.59</td>\n",
       "      <td>0</td>\n",
       "      <td>46.63</td>\n",
       "      <td>2.561</td>\n",
       "      <td>211.319643</td>\n",
       "      <td>8.106</td>\n",
       "      <td>2</td>\n",
       "      <td>2010</td>\n",
       "    </tr>\n",
       "    <tr>\n",
       "      <th>4</th>\n",
       "      <td>1</td>\n",
       "      <td>1554806.68</td>\n",
       "      <td>0</td>\n",
       "      <td>46.50</td>\n",
       "      <td>2.625</td>\n",
       "      <td>211.350143</td>\n",
       "      <td>8.106</td>\n",
       "      <td>3</td>\n",
       "      <td>2010</td>\n",
       "    </tr>\n",
       "  </tbody>\n",
       "</table>\n",
       "</div>"
      ],
      "text/plain": [
       "   Store  Weekly_Sales  Holiday_Flag  Temperature  Fuel_Price         CPI  \\\n",
       "0      1    1643690.90             0        42.31       2.572  211.096358   \n",
       "1      1    1641957.44             1        38.51       2.548  211.242170   \n",
       "2      1    1611968.17             0        39.93       2.514  211.289143   \n",
       "3      1    1409727.59             0        46.63       2.561  211.319643   \n",
       "4      1    1554806.68             0        46.50       2.625  211.350143   \n",
       "\n",
       "   Unemployment  Month  Year  \n",
       "0         8.106      2  2010  \n",
       "1         8.106      2  2010  \n",
       "2         8.106      2  2010  \n",
       "3         8.106      2  2010  \n",
       "4         8.106      3  2010  "
      ]
     },
     "execution_count": 9,
     "metadata": {},
     "output_type": "execute_result"
    }
   ],
   "source": [
    "df['Date'] = pd.to_datetime(df['Date'], format='%d-%m-%Y')\n",
    "df['Month'] = df['Date'].dt.month\n",
    "df['Year']  = df['Date'].dt.year\n",
    "df.drop('Date',axis=1,inplace=True)\n",
    "df.head()"
   ]
  },
  {
   "cell_type": "code",
   "execution_count": 12,
   "id": "0301e96d-2ca7-40e1-b360-b3707fe5b7e4",
   "metadata": {},
   "outputs": [
    {
     "data": {
      "text/plain": [
       "Text(0, 0.5, 'Total Sales')"
      ]
     },
     "execution_count": 12,
     "metadata": {},
     "output_type": "execute_result"
    },
    {
     "data": {
      "image/png": "[encoded data removed]",
      "text/plain": [
       "<Figure size 1400x300 with 1 Axes>"
      ]
     },
     "metadata": {},
     "output_type": "display_data"
    }
   ],
   "source": [
    "store_sales = df.groupby('Store')['Weekly_Sales'].sum().reset_index()\n",
    "plt.figure(figsize=(14, 3))\n",
    "sns.barplot(x='Store', y='Weekly_Sales', data=store_sales, palette='viridis')\n",
    "plt.title('Total Sales by Store')\n",
    "plt.xlabel('Store')\n",
    "plt.ylabel('Total Sales')"
   ]
  },
  {
   "cell_type": "code",
   "execution_count": 13,
   "id": "38022738-7e33-49b4-917a-9e8ed42b8c31",
   "metadata": {},
   "outputs": [
    {
     "data": {
      "text/html": [
       "<div>\n",
       "<style scoped>\n",
       "    .dataframe tbody tr th:only-of-type {\n",
       "        vertical-align: middle;\n",
       "    }\n",
       "\n",
       "    .dataframe tbody tr th {\n",
       "        vertical-align: top;\n",
       "    }\n",
       "\n",
       "    .dataframe thead th {\n",
       "        text-align: right;\n",
       "    }\n",
       "</style>\n",
       "<table border=\"1\" class=\"dataframe\">\n",
       "  <thead>\n",
       "    <tr style=\"text-align: right;\">\n",
       "      <th></th>\n",
       "      <th>Store</th>\n",
       "      <th>Weekly_Sales</th>\n",
       "      <th>Holiday_Flag</th>\n",
       "      <th>Temperature</th>\n",
       "      <th>Fuel_Price</th>\n",
       "      <th>CPI</th>\n",
       "      <th>Unemployment</th>\n",
       "      <th>Month</th>\n",
       "      <th>Year</th>\n",
       "    </tr>\n",
       "  </thead>\n",
       "  <tbody>\n",
       "    <tr>\n",
       "      <th>0</th>\n",
       "      <td>1</td>\n",
       "      <td>1643690.90</td>\n",
       "      <td>0</td>\n",
       "      <td>-1.017966</td>\n",
       "      <td>-1.683544</td>\n",
       "      <td>1.006528</td>\n",
       "      <td>0.185804</td>\n",
       "      <td>2</td>\n",
       "      <td>2010</td>\n",
       "    </tr>\n",
       "    <tr>\n",
       "      <th>1</th>\n",
       "      <td>1</td>\n",
       "      <td>1641957.44</td>\n",
       "      <td>1</td>\n",
       "      <td>-1.204376</td>\n",
       "      <td>-1.732738</td>\n",
       "      <td>1.009450</td>\n",
       "      <td>0.185804</td>\n",
       "      <td>2</td>\n",
       "      <td>2010</td>\n",
       "    </tr>\n",
       "    <tr>\n",
       "      <th>2</th>\n",
       "      <td>1</td>\n",
       "      <td>1611968.17</td>\n",
       "      <td>0</td>\n",
       "      <td>-1.135341</td>\n",
       "      <td>-1.802251</td>\n",
       "      <td>1.010391</td>\n",
       "      <td>0.185804</td>\n",
       "      <td>2</td>\n",
       "      <td>2010</td>\n",
       "    </tr>\n",
       "    <tr>\n",
       "      <th>3</th>\n",
       "      <td>1</td>\n",
       "      <td>1409727.59</td>\n",
       "      <td>0</td>\n",
       "      <td>-0.799809</td>\n",
       "      <td>-1.706104</td>\n",
       "      <td>1.011002</td>\n",
       "      <td>0.185804</td>\n",
       "      <td>2</td>\n",
       "      <td>2010</td>\n",
       "    </tr>\n",
       "    <tr>\n",
       "      <th>4</th>\n",
       "      <td>1</td>\n",
       "      <td>1554806.68</td>\n",
       "      <td>0</td>\n",
       "      <td>-0.806467</td>\n",
       "      <td>-1.574543</td>\n",
       "      <td>1.011613</td>\n",
       "      <td>0.185804</td>\n",
       "      <td>3</td>\n",
       "      <td>2010</td>\n",
       "    </tr>\n",
       "  </tbody>\n",
       "</table>\n",
       "</div>"
      ],
      "text/plain": [
       "   Store  Weekly_Sales  Holiday_Flag  Temperature  Fuel_Price       CPI  \\\n",
       "0      1    1643690.90             0    -1.017966   -1.683544  1.006528   \n",
       "1      1    1641957.44             1    -1.204376   -1.732738  1.009450   \n",
       "2      1    1611968.17             0    -1.135341   -1.802251  1.010391   \n",
       "3      1    1409727.59             0    -0.799809   -1.706104  1.011002   \n",
       "4      1    1554806.68             0    -0.806467   -1.574543  1.011613   \n",
       "\n",
       "   Unemployment  Month  Year  \n",
       "0      0.185804      2  2010  \n",
       "1      0.185804      2  2010  \n",
       "2      0.185804      2  2010  \n",
       "3      0.185804      2  2010  \n",
       "4      0.185804      3  2010  "
      ]
     },
     "execution_count": 13,
     "metadata": {},
     "output_type": "execute_result"
    }
   ],
   "source": [
    "# Applying Power Transformation on numeric columns\n",
    "cols =['Temperature','Fuel_Price','CPI','Unemployment']\n",
    "df_numeric = df[cols]\n",
    "from sklearn.preprocessing import PowerTransformer\n",
    "\n",
    "pt = PowerTransformer(standardize=True)\n",
    "df_transformed = pd.DataFrame(pt.fit_transform(df_numeric),columns=cols)\n",
    "\n",
    "pd.DataFrame({'cols':cols, 'box-cox lamda': pt.lambdas_})\n",
    "\n",
    "for col in cols:\n",
    "    df[col] = df_transformed[col]\n",
    "    \n",
    "    \n",
    "df.head()"
   ]
  },
  {
   "cell_type": "code",
   "execution_count": 14,
   "id": "49d99af5-9923-40be-89bb-eb60ead60705",
   "metadata": {},
   "outputs": [
    {
     "data": {
      "text/html": [
       "<div>\n",
       "<style scoped>\n",
       "    .dataframe tbody tr th:only-of-type {\n",
       "        vertical-align: middle;\n",
       "    }\n",
       "\n",
       "    .dataframe tbody tr th {\n",
       "        vertical-align: top;\n",
       "    }\n",
       "\n",
       "    .dataframe thead th {\n",
       "        text-align: right;\n",
       "    }\n",
       "</style>\n",
       "<table border=\"1\" class=\"dataframe\">\n",
       "  <thead>\n",
       "    <tr style=\"text-align: right;\">\n",
       "      <th></th>\n",
       "      <th>Store</th>\n",
       "      <th>Weekly_Sales</th>\n",
       "      <th>Holiday_Flag</th>\n",
       "      <th>Temperature</th>\n",
       "      <th>Fuel_Price</th>\n",
       "      <th>CPI</th>\n",
       "      <th>Unemployment</th>\n",
       "      <th>Month</th>\n",
       "      <th>Year</th>\n",
       "    </tr>\n",
       "  </thead>\n",
       "  <tbody>\n",
       "    <tr>\n",
       "      <th>0</th>\n",
       "      <td>1</td>\n",
       "      <td>1643690.90</td>\n",
       "      <td>0</td>\n",
       "      <td>-1.017966</td>\n",
       "      <td>-1.683544</td>\n",
       "      <td>1.006528</td>\n",
       "      <td>0.185804</td>\n",
       "      <td>2</td>\n",
       "      <td>2010</td>\n",
       "    </tr>\n",
       "    <tr>\n",
       "      <th>1</th>\n",
       "      <td>1</td>\n",
       "      <td>1641957.44</td>\n",
       "      <td>1</td>\n",
       "      <td>-1.204376</td>\n",
       "      <td>-1.732738</td>\n",
       "      <td>1.009450</td>\n",
       "      <td>0.185804</td>\n",
       "      <td>2</td>\n",
       "      <td>2010</td>\n",
       "    </tr>\n",
       "    <tr>\n",
       "      <th>2</th>\n",
       "      <td>1</td>\n",
       "      <td>1611968.17</td>\n",
       "      <td>0</td>\n",
       "      <td>-1.135341</td>\n",
       "      <td>-1.802251</td>\n",
       "      <td>1.010391</td>\n",
       "      <td>0.185804</td>\n",
       "      <td>2</td>\n",
       "      <td>2010</td>\n",
       "    </tr>\n",
       "    <tr>\n",
       "      <th>3</th>\n",
       "      <td>1</td>\n",
       "      <td>1409727.59</td>\n",
       "      <td>0</td>\n",
       "      <td>-0.799809</td>\n",
       "      <td>-1.706104</td>\n",
       "      <td>1.011002</td>\n",
       "      <td>0.185804</td>\n",
       "      <td>2</td>\n",
       "      <td>2010</td>\n",
       "    </tr>\n",
       "    <tr>\n",
       "      <th>4</th>\n",
       "      <td>1</td>\n",
       "      <td>1554806.68</td>\n",
       "      <td>0</td>\n",
       "      <td>-0.806467</td>\n",
       "      <td>-1.574543</td>\n",
       "      <td>1.011613</td>\n",
       "      <td>0.185804</td>\n",
       "      <td>3</td>\n",
       "      <td>2010</td>\n",
       "    </tr>\n",
       "    <tr>\n",
       "      <th>...</th>\n",
       "      <td>...</td>\n",
       "      <td>...</td>\n",
       "      <td>...</td>\n",
       "      <td>...</td>\n",
       "      <td>...</td>\n",
       "      <td>...</td>\n",
       "      <td>...</td>\n",
       "      <td>...</td>\n",
       "      <td>...</td>\n",
       "    </tr>\n",
       "    <tr>\n",
       "      <th>6430</th>\n",
       "      <td>45</td>\n",
       "      <td>713173.95</td>\n",
       "      <td>0</td>\n",
       "      <td>0.186582</td>\n",
       "      <td>1.408278</td>\n",
       "      <td>0.604228</td>\n",
       "      <td>0.491114</td>\n",
       "      <td>9</td>\n",
       "      <td>2012</td>\n",
       "    </tr>\n",
       "    <tr>\n",
       "      <th>6431</th>\n",
       "      <td>45</td>\n",
       "      <td>733455.07</td>\n",
       "      <td>0</td>\n",
       "      <td>0.187148</td>\n",
       "      <td>1.380942</td>\n",
       "      <td>0.607706</td>\n",
       "      <td>0.482463</td>\n",
       "      <td>10</td>\n",
       "      <td>2012</td>\n",
       "    </tr>\n",
       "    <tr>\n",
       "      <th>6432</th>\n",
       "      <td>45</td>\n",
       "      <td>734464.36</td>\n",
       "      <td>0</td>\n",
       "      <td>-0.388228</td>\n",
       "      <td>1.415115</td>\n",
       "      <td>0.611181</td>\n",
       "      <td>0.482463</td>\n",
       "      <td>10</td>\n",
       "      <td>2012</td>\n",
       "    </tr>\n",
       "    <tr>\n",
       "      <th>6433</th>\n",
       "      <td>45</td>\n",
       "      <td>718125.53</td>\n",
       "      <td>0</td>\n",
       "      <td>-0.280200</td>\n",
       "      <td>1.344527</td>\n",
       "      <td>0.611260</td>\n",
       "      <td>0.482463</td>\n",
       "      <td>10</td>\n",
       "      <td>2012</td>\n",
       "    </tr>\n",
       "    <tr>\n",
       "      <th>6434</th>\n",
       "      <td>45</td>\n",
       "      <td>760281.43</td>\n",
       "      <td>0</td>\n",
       "      <td>-0.150121</td>\n",
       "      <td>1.147164</td>\n",
       "      <td>0.610774</td>\n",
       "      <td>0.482463</td>\n",
       "      <td>10</td>\n",
       "      <td>2012</td>\n",
       "    </tr>\n",
       "  </tbody>\n",
       "</table>\n",
       "<p>5888 rows × 9 columns</p>\n",
       "</div>"
      ],
      "text/plain": [
       "      Store  Weekly_Sales  Holiday_Flag  Temperature  Fuel_Price       CPI  \\\n",
       "0         1    1643690.90             0    -1.017966   -1.683544  1.006528   \n",
       "1         1    1641957.44             1    -1.204376   -1.732738  1.009450   \n",
       "2         1    1611968.17             0    -1.135341   -1.802251  1.010391   \n",
       "3         1    1409727.59             0    -0.799809   -1.706104  1.011002   \n",
       "4         1    1554806.68             0    -0.806467   -1.574543  1.011613   \n",
       "...     ...           ...           ...          ...         ...       ...   \n",
       "6430     45     713173.95             0     0.186582    1.408278  0.604228   \n",
       "6431     45     733455.07             0     0.187148    1.380942  0.607706   \n",
       "6432     45     734464.36             0    -0.388228    1.415115  0.611181   \n",
       "6433     45     718125.53             0    -0.280200    1.344527  0.611260   \n",
       "6434     45     760281.43             0    -0.150121    1.147164  0.610774   \n",
       "\n",
       "      Unemployment  Month  Year  \n",
       "0         0.185804      2  2010  \n",
       "1         0.185804      2  2010  \n",
       "2         0.185804      2  2010  \n",
       "3         0.185804      2  2010  \n",
       "4         0.185804      3  2010  \n",
       "...            ...    ...   ...  \n",
       "6430      0.491114      9  2012  \n",
       "6431      0.482463     10  2012  \n",
       "6432      0.482463     10  2012  \n",
       "6433      0.482463     10  2012  \n",
       "6434      0.482463     10  2012  \n",
       "\n",
       "[5888 rows x 9 columns]"
      ]
     },
     "execution_count": 14,
     "metadata": {},
     "output_type": "execute_result"
    }
   ],
   "source": [
    "# outlier remove\n",
    "def remove_outliers(df, columns):\n",
    "    for column in columns:\n",
    "        Q1 = df[column].quantile(0.25)\n",
    "        Q3 = df[column].quantile(0.75)\n",
    "        IQR = Q3 - Q1\n",
    "        # Define outliers as any value below Q1 - 1.5*IQR or above Q3 + 1.5*IQR\n",
    "        df = df[(df[column] >= Q1 - 1.5 * IQR) & (df[column] <= Q3 + 1.5 * IQR)]\n",
    "    return df\n",
    "\n",
    "columns = ['Weekly_Sales', 'Temperature','Unemployment']\n",
    "\n",
    "# Remove outliers\n",
    "df_clean = remove_outliers(df, columns)\n",
    "df_clean"
   ]
  },
  {
   "cell_type": "code",
   "execution_count": 15,
   "id": "6cd558a0-b191-49e9-8cf1-1da717c804ee",
   "metadata": {},
   "outputs": [],
   "source": [
    "yr = {2010: 1, 2011: 2, 2012: 0}\n",
    "df['Year'] = df['Year'].map(yr)"
   ]
  },
  {
   "cell_type": "code",
   "execution_count": 16,
   "id": "9835401d-a49e-42c1-b1b4-369b6aaad6b3",
   "metadata": {},
   "outputs": [
    {
     "data": {
      "text/html": [
       "<div>\n",
       "<style scoped>\n",
       "    .dataframe tbody tr th:only-of-type {\n",
       "        vertical-align: middle;\n",
       "    }\n",
       "\n",
       "    .dataframe tbody tr th {\n",
       "        vertical-align: top;\n",
       "    }\n",
       "\n",
       "    .dataframe thead th {\n",
       "        text-align: right;\n",
       "    }\n",
       "</style>\n",
       "<table border=\"1\" class=\"dataframe\">\n",
       "  <thead>\n",
       "    <tr style=\"text-align: right;\">\n",
       "      <th></th>\n",
       "      <th>Store</th>\n",
       "      <th>Weekly_Sales</th>\n",
       "      <th>Holiday_Flag</th>\n",
       "      <th>Temperature</th>\n",
       "      <th>Fuel_Price</th>\n",
       "      <th>CPI</th>\n",
       "      <th>Unemployment</th>\n",
       "      <th>Month</th>\n",
       "      <th>Year</th>\n",
       "    </tr>\n",
       "  </thead>\n",
       "  <tbody>\n",
       "    <tr>\n",
       "      <th>0</th>\n",
       "      <td>1</td>\n",
       "      <td>1643690.90</td>\n",
       "      <td>0</td>\n",
       "      <td>-1.017966</td>\n",
       "      <td>-1.683544</td>\n",
       "      <td>1.006528</td>\n",
       "      <td>0.185804</td>\n",
       "      <td>2</td>\n",
       "      <td>1</td>\n",
       "    </tr>\n",
       "    <tr>\n",
       "      <th>1</th>\n",
       "      <td>1</td>\n",
       "      <td>1641957.44</td>\n",
       "      <td>1</td>\n",
       "      <td>-1.204376</td>\n",
       "      <td>-1.732738</td>\n",
       "      <td>1.009450</td>\n",
       "      <td>0.185804</td>\n",
       "      <td>2</td>\n",
       "      <td>1</td>\n",
       "    </tr>\n",
       "    <tr>\n",
       "      <th>2</th>\n",
       "      <td>1</td>\n",
       "      <td>1611968.17</td>\n",
       "      <td>0</td>\n",
       "      <td>-1.135341</td>\n",
       "      <td>-1.802251</td>\n",
       "      <td>1.010391</td>\n",
       "      <td>0.185804</td>\n",
       "      <td>2</td>\n",
       "      <td>1</td>\n",
       "    </tr>\n",
       "    <tr>\n",
       "      <th>3</th>\n",
       "      <td>1</td>\n",
       "      <td>1409727.59</td>\n",
       "      <td>0</td>\n",
       "      <td>-0.799809</td>\n",
       "      <td>-1.706104</td>\n",
       "      <td>1.011002</td>\n",
       "      <td>0.185804</td>\n",
       "      <td>2</td>\n",
       "      <td>1</td>\n",
       "    </tr>\n",
       "    <tr>\n",
       "      <th>4</th>\n",
       "      <td>1</td>\n",
       "      <td>1554806.68</td>\n",
       "      <td>0</td>\n",
       "      <td>-0.806467</td>\n",
       "      <td>-1.574543</td>\n",
       "      <td>1.011613</td>\n",
       "      <td>0.185804</td>\n",
       "      <td>3</td>\n",
       "      <td>1</td>\n",
       "    </tr>\n",
       "  </tbody>\n",
       "</table>\n",
       "</div>"
      ],
      "text/plain": [
       "   Store  Weekly_Sales  Holiday_Flag  Temperature  Fuel_Price       CPI  \\\n",
       "0      1    1643690.90             0    -1.017966   -1.683544  1.006528   \n",
       "1      1    1641957.44             1    -1.204376   -1.732738  1.009450   \n",
       "2      1    1611968.17             0    -1.135341   -1.802251  1.010391   \n",
       "3      1    1409727.59             0    -0.799809   -1.706104  1.011002   \n",
       "4      1    1554806.68             0    -0.806467   -1.574543  1.011613   \n",
       "\n",
       "   Unemployment  Month  Year  \n",
       "0      0.185804      2     1  \n",
       "1      0.185804      2     1  \n",
       "2      0.185804      2     1  \n",
       "3      0.185804      2     1  \n",
       "4      0.185804      3     1  "
      ]
     },
     "execution_count": 16,
     "metadata": {},
     "output_type": "execute_result"
    }
   ],
   "source": [
    "df.head()"
   ]
  },
  {
   "cell_type": "markdown",
   "id": "406100bb-94fc-44b4-90fa-ac1d7580f62c",
   "metadata": {},
   "source": [
    "#### Model Building"
   ]
  },
  {
   "cell_type": "code",
   "execution_count": 17,
   "id": "05ff2077-40a8-4804-87a4-13f3dc777476",
   "metadata": {},
   "outputs": [],
   "source": [
    "from sklearn.preprocessing import StandardScaler\n",
    "from sklearn.model_selection import train_test_split\n",
    "from sklearn.linear_model import LinearRegression\n",
    "from sklearn.metrics import mean_squared_error,mean_absolute_error,r2_score\n",
    "from sklearn.ensemble import RandomForestRegressor\n",
    "from sklearn.model_selection import cross_val_score\n",
    "from sklearn.preprocessing import PolynomialFeatures\n",
    "from sklearn.tree import DecisionTreeRegressor\n",
    "from sklearn.ensemble import RandomForestRegressor"
   ]
  },
  {
   "cell_type": "code",
   "execution_count": 18,
   "id": "17e4d80b-eb10-4a02-b1c7-36e2ecc92301",
   "metadata": {},
   "outputs": [
    {
     "name": "stdout",
     "output_type": "stream",
     "text": [
      "Original shape---> (6435, 9)\n",
      "Training shape---> (3861, 8)\n",
      "Testing shape---> (2574, 8)\n"
     ]
    }
   ],
   "source": [
    "X = df.drop(['Weekly_Sales'],axis=1)\n",
    "Y = df['Weekly_Sales']\n",
    "x_train,x_test,y_train,y_test=train_test_split(X,Y,random_state=42,test_size=0.4)\n",
    "print(\"Original shape--->\",df.shape)\n",
    "print(\"Training shape--->\",x_train.shape)\n",
    "print(\"Testing shape--->\",x_test.shape)"
   ]
  },
  {
   "cell_type": "markdown",
   "id": "c5de35b7-70cd-487f-92f2-199375305fd4",
   "metadata": {},
   "source": [
    "#### The code initializes a ColumnTransformer to apply one-hot encoding to the Store column of the x_train and x_test datasets. It uses OneHotEncoder with sparse=False to create dense arrays and drop='first' to avoid multicollinearity by excluding the first category. The transformer is fitted on x_train, transforming it by encoding the Store column and leaving other columns unchanged. The same transformation is then applied to x_test, ensuring consistent encoding across both datasets."
   ]
  },
  {
   "cell_type": "code",
   "execution_count": 19,
   "id": "52e0363e-cbf1-417e-9787-1756818539ce",
   "metadata": {},
   "outputs": [],
   "source": [
    "from sklearn.compose import ColumnTransformer\n",
    "from sklearn.preprocessing import OneHotEncoder\n",
    "transformer = ColumnTransformer(transformers=[('tf',OneHotEncoder(sparse=False,drop='first'),['Store'])],remainder='passthrough')\n",
    "x_train= transformer.fit_transform(x_train)\n",
    "x_test = transformer.transform(x_test)"
   ]
  },
  {
   "cell_type": "markdown",
   "id": "5e88d1e5-a420-4220-8017-01a669c09820",
   "metadata": {},
   "source": [
    "#### The pred_model function trains a model on the training data, predicts on the test data, and prints the model's Mean Squared Error (MSE), Mean Absolute Error (MAE), and R² score."
   ]
  },
  {
   "cell_type": "code",
   "execution_count": 20,
   "id": "7f707484-7dd3-4117-b1ae-0b5a95724cfd",
   "metadata": {},
   "outputs": [],
   "source": [
    "def pred_model(model,X_train,Y_train,X_test,Y_test):\n",
    "    c = model()\n",
    "    c.fit(X_train,Y_train)\n",
    "    y_pred = c.predict(X_test)\n",
    "    print(model)\n",
    "    print(f'MSE: {mean_squared_error(Y_test,y_pred)}')\n",
    "    print(f'MAE: {mean_absolute_error(Y_test,y_pred)}')\n",
    "    print(f'R2 : {r2_score(Y_test,y_pred)}')"
   ]
  },
  {
   "cell_type": "markdown",
   "id": "332c82c9-a364-4be9-8ed7-d2432894c81d",
   "metadata": {},
   "source": [
    "#### Linear Regression Model"
   ]
  },
  {
   "cell_type": "code",
   "execution_count": 21,
   "id": "3e913de8-9eb9-489a-8892-655a7db76fa6",
   "metadata": {},
   "outputs": [
    {
     "name": "stdout",
     "output_type": "stream",
     "text": [
      "<class 'sklearn.linear_model._base.LinearRegression'>\n",
      "MSE: 24515996775.300014\n",
      "MAE: 98948.37785109297\n",
      "R2 : 0.9228344267829016\n"
     ]
    }
   ],
   "source": [
    "pred_model(LinearRegression,x_train,y_train,x_test,y_test)"
   ]
  },
  {
   "cell_type": "markdown",
   "id": "9aed3c94-200e-442d-9fb3-39abb4ba39cd",
   "metadata": {},
   "source": [
    "#### Polynomial Regression"
   ]
  },
  {
   "cell_type": "code",
   "execution_count": 22,
   "id": "7b82d889-0abb-4af8-800a-230f0de6c6cd",
   "metadata": {},
   "outputs": [
    {
     "name": "stdout",
     "output_type": "stream",
     "text": [
      "<class 'sklearn.linear_model._base.LinearRegression'>\n",
      "MSE: 22008680355.746826\n",
      "MAE: 88374.49815410943\n",
      "R2 : 0.9307263558986043\n"
     ]
    }
   ],
   "source": [
    "poly = PolynomialFeatures(degree=2)\n",
    "x_poly = poly.fit_transform(x_train)\n",
    "x_poly_t = poly.fit_transform(x_test)\n",
    "pred_model(LinearRegression,x_poly ,y_train,x_poly_t,y_test)"
   ]
  },
  {
   "cell_type": "markdown",
   "id": "fa29aaaf-c6cb-483b-b64c-3bdb0505cb7c",
   "metadata": {},
   "source": [
    "#### Decision Tree Regression"
   ]
  },
  {
   "cell_type": "code",
   "execution_count": 23,
   "id": "a229708c-9a82-463e-a9ef-825117099dcd",
   "metadata": {},
   "outputs": [
    {
     "name": "stdout",
     "output_type": "stream",
     "text": [
      "<class 'sklearn.tree._classes.DecisionTreeRegressor'>\n",
      "MSE: 33901895014.8068\n",
      "MAE: 93052.78178710179\n",
      "R2 : 0.8932917479986313\n"
     ]
    }
   ],
   "source": [
    "pred_model(DecisionTreeRegressor,x_train,y_train,x_test,y_test)"
   ]
  },
  {
   "cell_type": "markdown",
   "id": "c8a21592-10d4-4562-a4f0-69cc43a7c791",
   "metadata": {},
   "source": [
    "#### Random Forest Regression"
   ]
  },
  {
   "cell_type": "code",
   "execution_count": 24,
   "id": "24866dc0-25c0-4bd1-9e5b-d8773da740cf",
   "metadata": {},
   "outputs": [
    {
     "name": "stdout",
     "output_type": "stream",
     "text": [
      "<class 'sklearn.ensemble._forest.RandomForestRegressor'>\n",
      "MSE: 21818326219.922417\n",
      "MAE: 75849.96606138306\n",
      "R2 : 0.9313255069810492\n"
     ]
    }
   ],
   "source": [
    "pred_model(RandomForestRegressor,x_train,y_train,x_test,y_test)"
   ]
  },
  {
   "cell_type": "markdown",
   "id": "9ea4c74a-a011-4c60-aa54-8b83b1d71cac",
   "metadata": {},
   "source": [
    "#### XGBRegressor"
   ]
  },
  {
   "cell_type": "code",
   "execution_count": 25,
   "id": "a4d880af-8a48-40f3-8870-745d496bd57a",
   "metadata": {},
   "outputs": [
    {
     "name": "stdout",
     "output_type": "stream",
     "text": [
      "<class 'xgboost.sklearn.XGBRegressor'>\n",
      "MSE: 16701254210.283928\n",
      "MAE: 72162.70668973388\n",
      "R2 : 0.9474317986581124\n"
     ]
    }
   ],
   "source": [
    "from xgboost import XGBRegressor\n",
    "pred_model(XGBRegressor,x_train,y_train,x_test,y_test)"
   ]
  },
  {
   "cell_type": "markdown",
   "id": "78f89ac2-cd9e-412b-a543-f3a6502a8d46",
   "metadata": {},
   "source": [
    "#### Results\n",
    "Model Performance: The XGBRegressor model achieved the highest performance among the models evaluated. The results are:\n",
    "\n",
    "MSE: 16,701,254,210.28\n",
    "\n",
    "MAE: 72,162.71\n",
    "\n",
    "R²: 0.9474\n",
    "\n",
    "Key Insights:\n",
    "The XGBRegressor model was able to explain 94.7% of the variance in the sales data, indicating a strong fit.\n",
    "Although the model performed well overall, some error remains, particularly during periods with unusual events or holidays."
   ]
  },
  {
   "cell_type": "markdown",
   "id": "b6945c47-15f7-40b5-821f-46a29a0ac02f",
   "metadata": {},
   "source": [
    "#### Conclusion\n",
    "#### Summary: The XGBRegressor model demonstrated the best performance among the models evaluated. The high R² value indicates that the model effectively captures the relationship between the features and the sales predictions.\n",
    "\n",
    "#### Implications: Accurate sales predictions can aid in better inventory management and strategic planning. This model can be useful for making data-driven decisions to optimize sales strategies.\n",
    "\n",
    "#### Future Work: Consider experimenting with additional features or alternative models to further improve prediction accuracy. Data preprocessing and feature engineering might also enhance performance."
   ]
  }
 ],
 "metadata": {
  "kernelspec": {
   "display_name": "Python 3 (ipykernel)",
   "language": "python",
   "name": "python3"
  },
  "language_info": {
   "codemirror_mode": {
    "name": "ipython",
    "version": 3
   },
   "file_extension": ".py",
   "mimetype": "text/x-python",
   "name": "python",
   "nbconvert_exporter": "python",
   "pygments_lexer": "ipython3",
   "version": "3.11.5"
  }
 },
 "nbformat": 4,
 "nbformat_minor": 5
}
